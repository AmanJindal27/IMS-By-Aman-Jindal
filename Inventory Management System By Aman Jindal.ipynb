{
 "cells": [
  {
   "cell_type": "markdown",
   "metadata": {
    "colab_type": "text",
    "id": "view-in-github"
   },
   "source": [
    "<a href=\"https://colab.research.google.com/github/ayush-sultania/IMS-ramp-up-Skill-India-ML-AI/blob/main/Ims.ipynb\" target=\"_parent\"><img src=\"https://colab.research.google.com/assets/colab-badge.svg\" alt=\"Open In Colab\"/></a>"
   ]
  },
  {
   "cell_type": "markdown",
   "metadata": {
    "id": "PWAHDV5HKokn"
   },
   "source": [
    "# Inventory Management System By Aman Jindal\n",
    "\n"
   ]
  },
  {
   "cell_type": "markdown",
   "metadata": {
    "id": "fg_99VzyK2hr"
   },
   "source": [
    "# Creating Records Dictionary:"
   ]
  },
  {
   "cell_type": "code",
   "execution_count": 1,
   "metadata": {
    "id": "fmrgP14twf1D"
   },
   "outputs": [],
   "source": [
    "records = {\n",
    "     1 : {\"Name\" : \"Kit Kat Small    \", \"Quantity\" : 100, \"Rate\" : 10, \"Discount\" : 10 , \"Expiry\" : \"20-10-2022\"},\n",
    "     2 : {\"Name\" : \"Kit Kat Large    \", \"Quantity\" : 100, \"Rate\" : 30, \"Discount\" : 10 , \"Expiry\" : \"20-10-2022\"},\n",
    "     3 : {\"Name\" : \"Milky Bar Small  \", \"Quantity\" : 100, \"Rate\" : 10, \"Discount\" : 10 , \"Expiry\" : \"20-10-2022\"},\n",
    "     4 : {\"Name\" : \"Milky Bar Large  \", \"Quantity\" : 100, \"Rate\" : 30, \"Discount\" : 10 , \"Expiry\" : \"20-10-2022\"},\n",
    "     5 : {\"Name\" : \"Dairy Milk Small \", \"Quantity\" : 100, \"Rate\" : 10, \"Discount\" : 10 , \"Expiry\" : \"20-10-2022\"},\n",
    "     6 : {\"Name\" : \"Dairy Milk Large \", \"Quantity\" : 100, \"Rate\" : 30, \"Discount\" : 10 , \"Expiry\" : \"20-10-2022\"},\n",
    "     7 : {\"Name\" : \"5 Star Small     \", \"Quantity\" : 100, \"Rate\" : 10, \"Discount\" : 10 , \"Expiry\" : \"20-10-2022\"},\n",
    "     8 : {\"Name\" : \"5 Star Large     \", \"Quantity\" : 100, \"Rate\" : 30, \"Discount\" : 10 , \"Expiry\" : \"20-10-2022\"},\n",
    "     9 : {\"Name\" : \"Munch            \", \"Quantity\" : 100, \"Rate\" : 10, \"Discount\" : 10 , \"Expiry\" : \"20-10-2022\"},\n",
    "    10 : {\"Name\" : \"Eclairs Pack     \", \"Quantity\" : 100, \"Rate\" : 250, \"Discount\" : 10 , \"Expiry\" : \"20-10-2022\"},\n",
    "    11 : {\"Name\" : \"KurKure Small    \", \"Quantity\" : 100, \"Rate\" : 10, \"Discount\" : 10 , \"Expiry\" : \"20-10-2022\"},\n",
    "    12 : {\"Name\" : \"Kurkure Medium   \", \"Quantity\" : 100, \"Rate\" : 20, \"Discount\" : 10 , \"Expiry\" : \"20-10-2022\"},\n",
    "    13 : {\"Name\" : \"Kurkure Large    \", \"Quantity\" : 100, \"Rate\" : 30, \"Discount\" : 10 , \"Expiry\" : \"20-10-2022\"},\n",
    "    14 : {\"Name\" : \"Lays Small       \", \"Quantity\" : 100, \"Rate\" : 10, \"Discount\" : 10 , \"Expiry\" : \"20-10-2022\"},\n",
    "    15 : {\"Name\" : \"Lays Medium      \", \"Quantity\" : 100, \"Rate\" : 20, \"Discount\" : 10 , \"Expiry\" : \"20-10-2022\"},\n",
    "    16 : {\"Name\" : \"Lays Large       \", \"Quantity\" : 100, \"Rate\" : 30, \"Discount\" : 10 , \"Expiry\" : \"20-10-2022\"},\n",
    "    17 : {\"Name\" : \"Lays Family Pack \", \"Quantity\" : 100, \"Rate\" : 90, \"Discount\" : 10 , \"Expiry\" : \"20-10-2022\"},\n",
    "    18 : {\"Name\" : \"Cornitos Small   \", \"Quantity\" : 100, \"Rate\" : 35, \"Discount\" : 10 , \"Expiry\" : \"20-10-2022\"},\n",
    "    19 : {\"Name\" : \"Cornitos Large   \", \"Quantity\" : 100, \"Rate\" : 70, \"Discount\" : 10 , \"Expiry\" : \"20-10-2022\"},\n",
    "    20 : {\"Name\" : \"Uncle Chips Small\", \"Quantity\" : 100, \"Rate\" : 10, \"Discount\" : 10 , \"Expiry\" : \"20-10-2022\"},\n",
    "    21 : {\"Name\" : \"Uncle Chips Large\", \"Quantity\" : 100, \"Rate\" : 20, \"Discount\" : 10 , \"Expiry\" : \"20-10-2022\"},\n",
    "    22 : {\"Name\" : \"TakaTak Small    \", \"Quantity\" : 100, \"Rate\" : 10, \"Discount\" : 10 , \"Expiry\" : \"20-10-2022\"},\n",
    "    23 : {\"Name\" : \"TakaTak Large    \", \"Quantity\" : 100, \"Rate\" : 20, \"Discount\" : 10 , \"Expiry\" : \"20-10-2022\"},\n",
    "    24 : {\"Name\" : \"Coke Can         \", \"Quantity\" : 100, \"Rate\" : 30, \"Discount\" : 10 , \"Expiry\" : \"20-10-2022\"},\n",
    "    25 : {\"Name\" : \"Coke 300ml       \", \"Quantity\" : 100, \"Rate\" : 20, \"Discount\" : 10 , \"Expiry\" : \"20-10-2022\"},\n",
    "    26 : {\"Name\" : \"Coke 600ml       \", \"Quantity\" : 100, \"Rate\" : 40, \"Discount\" : 10 , \"Expiry\" : \"20-10-2022\"},\n",
    "    27 : {\"Name\" : \"Coke 1.25l       \", \"Quantity\" : 100, \"Rate\" : 85, \"Discount\" : 10 , \"Expiry\" : \"20-10-2022\"},\n",
    "    28 : {\"Name\" : \"Limca 600ml      \", \"Quantity\" : 100, \"Rate\" : 40, \"Discount\" : 10 , \"Expiry\" : \"20-10-2022\"},\n",
    "    29 : {\"Name\" : \"Limca 1.25l      \", \"Quantity\" : 100, \"Rate\" : 60, \"Discount\" : 10 , \"Expiry\" : \"20-10-2022\"},\n",
    "    30 : {\"Name\" : \"Limca 2l         \", \"Quantity\" : 100, \"Rate\" : 80, \"Discount\" : 10 , \"Expiry\" : \"20-10-2022\"},\n",
    "}"
   ]
  },
  {
   "cell_type": "code",
   "execution_count": 2,
   "metadata": {
    "id": "i_FyftWJWdr8"
   },
   "outputs": [],
   "source": [
    "#Importing json file:\n",
    "\n",
    "import json\n",
    "\n",
    "fd = open(\"inventory.json\", \"w\")\n",
    "fd.write(json.dumps(records, indent=4))\n",
    "fd.close()"
   ]
  },
  {
   "cell_type": "code",
   "execution_count": 5,
   "metadata": {
    "colab": {
     "base_uri": "https://localhost:8080/"
    },
    "id": "TG7-t1ieirLM",
    "outputId": "147140d6-46e1-4a73-8596-3e266eb0e17e"
   },
   "outputs": [
    {
     "name": "stdout",
     "output_type": "stream",
     "text": [
      "Mon Sep  6 20:18:11 2021\n"
     ]
    }
   ],
   "source": [
    "#Importing Time Library:\n",
    "\n",
    "import time \n",
    "print(time.ctime())"
   ]
  },
  {
   "cell_type": "code",
   "execution_count": 6,
   "metadata": {
    "colab": {
     "base_uri": "https://localhost:8080/"
    },
    "id": "L-69z--6n2c5",
    "outputId": "fbb69b36-44fc-461c-dadc-99d3c25f5f64"
   },
   "outputs": [
    {
     "name": "stdout",
     "output_type": "stream",
     "text": [
      "\t\t ____________________________________________________________\n",
      "\t\t|    Welcome To Aman's Inventory Management System           |\n",
      "\t\t|____________________________________________________________|\n",
      "Enter the number of times you want to take input from user: 3\n",
      "**** Please choose any one of the following options as per your choice: ****\n",
      "1. Inventory \n",
      "2. Place Order\n",
      "0. Exit\n",
      "Provide your input here : 1\n",
      "\t\t ____________________________________________________________\n",
      "\t\t|   **** Displaying Inventory As Per Your Choice ****        |\n",
      "\t\t|____________________________________________________________|\n",
      "Product Id \t Name \t\t Price \t Quantity \t Discount\n",
      "************************************************************************************************************************************\n",
      "\t 1 Kit Kat Small     \t 10 \t 100 \t 10\n",
      "\t 2 Kit Kat Large     \t 30 \t 100 \t 10\n",
      "\t 3 Milky Bar Small   \t 10 \t 100 \t 10\n",
      "\t 4 Milky Bar Large   \t 30 \t 100 \t 10\n",
      "\t 5 Dairy Milk Small  \t 10 \t 100 \t 10\n",
      "\t 6 Dairy Milk Large  \t 30 \t 100 \t 10\n",
      "\t 7 5 Star Small      \t 10 \t 100 \t 10\n",
      "\t 8 5 Star Large      \t 30 \t 100 \t 10\n",
      "\t 9 Munch             \t 10 \t 100 \t 10\n",
      "\t 10 Eclairs Pack      \t 250 \t 100 \t 10\n",
      "\t 11 KurKure Small     \t 10 \t 100 \t 10\n",
      "\t 12 Kurkure Medium    \t 20 \t 100 \t 10\n",
      "\t 13 Kurkure Large     \t 30 \t 100 \t 10\n",
      "\t 14 Lays Small        \t 10 \t 100 \t 10\n",
      "\t 15 Lays Medium       \t 20 \t 100 \t 10\n",
      "\t 16 Lays Large        \t 30 \t 100 \t 10\n",
      "\t 17 Lays Family Pack  \t 90 \t 100 \t 10\n",
      "\t 18 Cornitos Small    \t 35 \t 100 \t 10\n",
      "\t 19 Cornitos Large    \t 70 \t 100 \t 10\n",
      "\t 20 Uncle Chips Small \t 10 \t 100 \t 10\n",
      "\t 21 Uncle Chips Large \t 20 \t 100 \t 10\n",
      "\t 22 TakaTak Small     \t 10 \t 100 \t 10\n",
      "\t 23 TakaTak Large     \t 20 \t 100 \t 10\n",
      "\t 24 Coke Can          \t 30 \t 100 \t 10\n",
      "\t 25 Coke 300ml        \t 20 \t 100 \t 10\n",
      "\t 26 Coke 600ml        \t 40 \t 100 \t 10\n",
      "\t 27 Coke 1.25l        \t 85 \t 100 \t 10\n",
      "\t 28 Limca 600ml       \t 40 \t 100 \t 10\n",
      "\t 29 Limca 1.25l       \t 60 \t 100 \t 10\n",
      "\t 30 Limca 2l          \t 80 \t 100 \t 10\n",
      "************************************************************************************************************************************\n",
      "**** Please choose any one of the following options as per your choice: ****\n",
      "1. Inventory \n",
      "2. Place Order\n",
      "0. Exit\n",
      "Provide your input here : 2\n",
      "Enter the Number of Products you want : 3\n",
      "Product Number  1  : \n",
      "Enter Product Id : 10\n",
      "Enter the Quantity : 15\n",
      "Product Number  2  : \n",
      "Enter Product Id : 20\n",
      "Enter the Quantity : 5\n",
      "Product Number  3  : \n",
      "Enter Product Id : 30\n",
      "Enter the Quantity : 10\n",
      "Transaction Successful\n",
      "Mon Sep  6 20:24:13 2021\n",
      "Product Id \t Name \t\t Rate \t Quantity \t Amount(Discounted)\n",
      "************************************************************************************************************************************\n",
      "\t 10 Eclairs Pack      \t 250 \t 15 \t 3375.0\n",
      "\t 20 Uncle Chips Small \t 10 \t 5 \t 45.0\n",
      "\t 30 Limca 2l          \t 80 \t 10 \t 720.0\n",
      "Total  :  4140.0\n",
      "************************************************************************************************************************************\n",
      "Thanks for shopping with us!! \n",
      "**** Please choose any one of the following options as per your choice: ****\n",
      "1. Inventory \n",
      "2. Place Order\n",
      "0. Exit\n",
      "Provide your input here : 0\n",
      "Exiting, Have a Great Day\n",
      "Wall time: 6min 11s\n"
     ]
    }
   ],
   "source": [
    "%%time\n",
    "import json\n",
    "\n",
    "\n",
    "print(\"\\t\\t ____________________________________________________________\")\n",
    "print(\"\\t\\t|    Welcome To Aman's Inventory Management System           |\")\n",
    "print(\"\\t\\t|____________________________________________________________|\")\n",
    "\n",
    "def showinventory():\n",
    "  \n",
    "    print(\"\\t\\t ____________________________________________________________\")\n",
    "    print(\"\\t\\t|   **** Displaying Inventory As Per Your Choice ****        |\")\n",
    "    print(\"\\t\\t|____________________________________________________________|\")\n",
    "\n",
    "    a = open(\"inventory.json\", \"r\")\n",
    "    dat = json.load(a)\n",
    "    a.close()\n",
    "    print (\"Product Id\",\"\\t\", \"Name\", \"\\t\\t\", \"Price\", \"\\t\", \"Quantity\", \"\\t\", \"Discount\")\n",
    "    print(\"************************************************************************************************************************************\")\n",
    "    for i in dat:\n",
    "        print(\"\\t\", i, dat[i]['Name'], \"\\t\", dat[i]['Rate'], \"\\t\", dat[i]['Quantity'], \"\\t\", dat[i]['Discount'])\n",
    "    print(\"************************************************************************************************************************************\")\n",
    "\n",
    "\n",
    "\n",
    "def showbill(abill) :\n",
    "    import time\n",
    "    currtime =  time.ctime()\n",
    "    print(\"Transaction Successful\")\n",
    "    print(currtime)\n",
    "    print(\"Product Id\", \"\\t\", \"Name\", \"\\t\\t\", \"Rate\", \"\\t\", \"Quantity\", \"\\t\", \"Amount(Discounted)\")\n",
    "    print(\"************************************************************************************************************************************\")\n",
    "    total = 0 ;\n",
    "    for eac in abill:\n",
    "        print(\"\\t\", eac['pid'],eac['name'], \"\\t\", eac['rate'], \"\\t\", eac['quantity'], \"\\t\", eac['amount'] )\n",
    "        total += eac['amount']\n",
    "    print (\"Total  : \", total)\n",
    "    print(\"************************************************************************************************************************************\")\n",
    "    print(\"Thanks for shopping with us!! \")\n",
    "    import json\n",
    "    tr = open(\"transactions.json\", \"w\")\n",
    "    trans = {\"Date\" : currtime, \"items\" : abill, \"total\" : total}\n",
    "    tr.write(json.dumps(trans, indent = 4))\n",
    "    tr.close()\n",
    "\n",
    "\n",
    "def placeorder():\n",
    "    a = open(\"inventory.json\", \"r\")\n",
    "    dat = json.load(a)\n",
    "    a.close()\n",
    "    nitems = int(input(\"Enter the Number of Products you want : \"))\n",
    "    itemlis = []\n",
    "    for i in range(nitems) :\n",
    "        print(\"Product Number \", i + 1, \" : \")\n",
    "        pid = int(input(\"Enter Product Id : \"))\n",
    "        quan = int(input(\"Enter the Quantity : \"))\n",
    "        itemlis.append({\"pid\" : pid, \"quan\" : quan})\n",
    "    bill = []\n",
    "    for it in itemlis:\n",
    "        a = dat[str(it['pid'])]\n",
    "        if a['Quantity'] >= it['quan'] :\n",
    "            dat[str(it['pid'])]['Quantity'] = a['Quantity'] - it['quan']\n",
    "            dis = a['Discount']\n",
    "            dis = 100 - dis\n",
    "            dis = dis / 100.0\n",
    "            bill.append({\"pid\" : it['pid'], \"name\" : dat[str(it['pid'])]['Name'], \"rate\" : dat[str(it['pid'])]['Rate'], \"quantity\" : it['quan'] ,\"amount\" : (dat[str(it['pid'])]['Rate'] * it['quan'] * dis) })\n",
    "    fd = open(\"inventory.json\", \"w\")\n",
    "    fd.write(json.dumps(dat, indent = 4))\n",
    "    fd.close()\n",
    "    showbill(bill)\n",
    "    pass\n",
    "\n",
    "\n",
    "times=int(input(\"Enter the number of times you want to take input from user: \"))\n",
    "times\n",
    "for i in range(times):\n",
    "               \n",
    "    print(\"**** Please choose any one of the following options as per your choice: ****\")\n",
    "    print(\"1. Inventory \")\n",
    "    print(\"2. Place Order\")\n",
    "    print(\"0. Exit\")\n",
    "    ch = int(input(\"Provide your input here : \"))\n",
    "    if ch == 1 :\n",
    "        showinventory()\n",
    "    elif ch == 2 :\n",
    "        placeorder()\n",
    "        ch = 0\n",
    "    elif ch == 0 :\n",
    "        print(\"Exiting, Have a Great Day\")\n",
    "    else :\n",
    "        print(\"Wrong choice, Exiting!!\")\n",
    "        ch = 0\n"
   ]
  },
  {
   "cell_type": "markdown",
   "metadata": {},
   "source": [
    " "
   ]
  }
 ],
 "metadata": {
  "colab": {
   "authorship_tag": "ABX9TyMkOci+R8zrAGeDMt46nkA5",
   "collapsed_sections": [],
   "include_colab_link": true,
   "name": "Ims.ipynb",
   "provenance": []
  },
  "kernelspec": {
   "display_name": "Python 3",
   "language": "python",
   "name": "python3"
  },
  "language_info": {
   "codemirror_mode": {
    "name": "ipython",
    "version": 3
   },
   "file_extension": ".py",
   "mimetype": "text/x-python",
   "name": "python",
   "nbconvert_exporter": "python",
   "pygments_lexer": "ipython3",
   "version": "3.8.3"
  }
 },
 "nbformat": 4,
 "nbformat_minor": 1
}
